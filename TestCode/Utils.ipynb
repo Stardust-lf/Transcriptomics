{
 "cells": [
  {
   "cell_type": "code",
   "execution_count": 22,
   "id": "2152d3f9",
   "metadata": {},
   "outputs": [],
   "source": [
    "import os\n",
    "import numpy as np\n",
    "import copy\n",
    "import anndata as ad\n",
    "\n",
    "toarray = lambda x: np.array(x,dtype=np.int16)\n",
    "toembedding = lambda x: np.squeeze(x)\n",
    "ann2embd = lambda ann,index: toembedding(toarray(ann.X[:,index].todense()))\n",
    "ann2feaMat = lambda ann: toembedding(toarray(ann.X.todense()))\n",
    "def get_paths(root):\n",
    "    filenames = []\n",
    "    for (dirpath, dirnames, filename) in os.walk(root):\n",
    "        for file in filename:\n",
    "            filenames.append(os.path.join(dirpath,file))\n",
    "    return filenames\n",
    "\n",
    "def intersect(lst1, lst2): \n",
    "    temp = set(lst2)\n",
    "    lst3 = [value for value in lst1 if value in temp]\n",
    "    return lst3"
   ]
  },
  {
   "cell_type": "code",
   "execution_count": 23,
   "id": "d466a3c7",
   "metadata": {},
   "outputs": [],
   "source": [
    "def sort_xy_fea(pos,fea_mat):\n",
    "    fea_mat = np.array([item for item in fea_mat])\n",
    "    ind_x = pos[:,0].argsort()\n",
    "    pos = pos[ind_x]\n",
    "    fea_mat = fea_mat[ind_x]\n",
    "    ind_y = pos[:,1].argsort()\n",
    "    pos = pos[ind_y]\n",
    "    fea_mat = fea_mat[ind_y]\n",
    "    return pos,fea_mat\n",
    "\n",
    "def split_by_y(xy_,gene_,round_i=0):\n",
    "    xy = copy.deepcopy(xy_)\n",
    "    gene = copy.deepcopy(gene_)\n",
    "    result = []\n",
    "    gene_result = []\n",
    "    temp = []\n",
    "    gene_temp = []\n",
    "    pre_y = -1\n",
    "    for item in xy:\n",
    "        item_gene = gene.pop(0)\n",
    "        if item[1].round(round_i) == pre_y or pre_y == -1:\n",
    "            temp.append(item)\n",
    "            gene_temp.append(item_gene)\n",
    "        else:\n",
    "            result.append(np.array(temp))\n",
    "            gene_result.append(np.array(gene_temp))\n",
    "            temp = [item]\n",
    "            gene_temp = [item_gene]\n",
    "\n",
    "        pre_y = item[1].round(round_i)\n",
    "    result.append(np.array(temp))\n",
    "    gene_result.append(np.array(gene_temp))\n",
    "    return result,gene_result\n",
    "\n",
    "def rotate_coordinates(coordinates, angle):\n",
    "    radians = np.deg2rad(angle)\n",
    "    cos = np.cos(radians)\n",
    "    sin = np.sin(radians)\n",
    "    rotation_matrix = np.array([[cos, -sin], [sin, cos]])\n",
    "    rotated_coordinates = np.dot(coordinates, rotation_matrix)    \n",
    "    return rotated_coordinates\n",
    "\n",
    "def get_pos_frames(slic):\n",
    "    xy,gene = sort_xy_fea(slic.obsm['spatial'],ann2feaMat(slic))\n",
    "    gene_li = [item for item in gene]\n",
    "    sorted_pos_fea = [split_by_y(rotate_coordinates(xy,angle/10),gene_li) for angle in range(-30,30)]\n",
    "    distribution = [item[0] for item in sorted_pos_fea]\n",
    "    pos,frames = sorted_pos_fea[np.argmin([len(item) for item in distribution])]\n",
    "    return {'Position':pos,'Gene_features':frames}\n",
    "\n",
    "def get_inter_pos_frames(slice1_path,slice2_path):\n",
    "    slice1 = ad.read_h5ad(slice1_path)\n",
    "    slice2 = ad.read_h5ad(slice2_path)\n",
    "    interIndex = intersect(slice1.var.index,slice2.var.index)\n",
    "    slice1 = slice1[:,interIndex]\n",
    "    slice2 = slice2[:,interIndex]\n",
    "    return [get_pos_frames(slice1),get_pos_frames(slice2)]\n",
    "    \n",
    "\n"
   ]
  },
  {
   "cell_type": "code",
   "execution_count": 25,
   "id": "d4885714",
   "metadata": {},
   "outputs": [],
   "source": []
  },
  {
   "cell_type": "code",
   "execution_count": 28,
   "id": "ba52879c",
   "metadata": {},
   "outputs": [
    {
     "data": {
      "text/plain": [
       "(93, 97, (7, 10032), (42, 10032))"
      ]
     },
     "execution_count": 28,
     "metadata": {},
     "output_type": "execute_result"
    }
   ],
   "source": []
  },
  {
   "cell_type": "code",
   "execution_count": null,
   "id": "af809791",
   "metadata": {},
   "outputs": [],
   "source": []
  }
 ],
 "metadata": {
  "kernelspec": {
   "display_name": "Python 3 (ipykernel)",
   "language": "python",
   "name": "python3"
  },
  "language_info": {
   "codemirror_mode": {
    "name": "ipython",
    "version": 3
   },
   "file_extension": ".py",
   "mimetype": "text/x-python",
   "name": "python",
   "nbconvert_exporter": "python",
   "pygments_lexer": "ipython3",
   "version": "3.11.4"
  }
 },
 "nbformat": 4,
 "nbformat_minor": 5
}
