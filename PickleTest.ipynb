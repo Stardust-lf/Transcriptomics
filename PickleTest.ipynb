{
 "cells": [
  {
   "cell_type": "code",
   "execution_count": 1,
   "metadata": {
    "ExecuteTime": {
     "end_time": "2023-09-10T17:20:00.618182Z",
     "start_time": "2023-09-10T17:20:00.610748Z"
    }
   },
   "outputs": [],
   "source": [
    "import pickle\n",
    "\n",
    "\n",
    "def load_variavle(filename):\n",
    "  f=open(filename,'rb')\n",
    "  r=pickle.load(f)\n",
    "  f.close()\n",
    "  return r"
   ]
  },
  {
   "cell_type": "code",
   "execution_count": 2,
   "metadata": {
    "ExecuteTime": {
     "end_time": "2023-09-10T17:20:20.781012Z",
     "start_time": "2023-09-10T17:20:20.156099Z"
    }
   },
   "outputs": [
    {
     "name": "stdout",
     "output_type": "stream",
     "text": [
      "[array([[13.064,  6.086, 12.   , ...,  0.   ,  0.   ,  0.   ],\n",
      "       [12.116,  7.015,  7.   , ...,  1.   ,  0.   ,  0.   ],\n",
      "       [13.945,  6.999, 15.   , ...,  0.   ,  0.   ,  1.   ],\n",
      "       ...,\n",
      "       [20.063, 24.964,  0.   , ...,  0.   ,  0.   ,  0.   ],\n",
      "       [19.007, 25.045,  1.   , ...,  0.   ,  0.   ,  0.   ],\n",
      "       [21.957, 25.871,  5.   , ...,  1.   ,  0.   ,  0.   ]]), array([[17.907,  4.967,  1.   , ...,  0.   ,  0.   ,  0.   ],\n",
      "       [18.965,  5.003,  7.   , ...,  0.   ,  0.   ,  0.   ],\n",
      "       [18.954,  5.995,  5.   , ...,  0.   ,  0.   ,  0.   ],\n",
      "       ...,\n",
      "       [21.874, 24.852,  4.   , ...,  0.   ,  0.   ,  0.   ],\n",
      "       [23.096, 24.93 ,  2.   , ...,  0.   ,  0.   ,  0.   ],\n",
      "       [24.076, 25.951,  1.   , ...,  0.   ,  0.   ,  0.   ]]), array([[21.91 ,  8.945, 16.   , ...,  0.   ,  1.   ,  0.   ],\n",
      "       [23.14 ,  9.057, 11.   , ...,  0.   ,  0.   ,  0.   ],\n",
      "       [16.94 ,  9.036,  2.   , ...,  0.   ,  0.   ,  0.   ],\n",
      "       ...,\n",
      "       [15.   , 25.056, 20.   , ...,  1.   ,  0.   ,  0.   ],\n",
      "       [17.039, 25.058, 18.   , ...,  0.   ,  0.   ,  0.   ],\n",
      "       [24.192, 25.058, 12.   , ...,  0.   ,  0.   ,  0.   ]]), array([[18.89 ,  8.958,  0.   , ...,  0.   ,  0.   ,  0.   ],\n",
      "       [17.902,  8.962,  0.   , ...,  0.   ,  0.   ,  0.   ],\n",
      "       [13.029,  9.008,  1.   , ...,  0.   ,  0.   ,  0.   ],\n",
      "       ...,\n",
      "       [23.062, 27.052,  1.   , ...,  1.   ,  0.   ,  0.   ],\n",
      "       [21.924, 27.865,  1.   , ...,  0.   ,  0.   ,  0.   ],\n",
      "       [23.149, 28.039,  0.   , ...,  0.   ,  0.   ,  0.   ]])]\n"
     ]
    }
   ],
   "source": [
    "data = load_variavle('DataSet/slices.pkl')\n",
    "print(data)"
   ]
  },
  {
   "cell_type": "code",
   "execution_count": 3,
   "metadata": {},
   "outputs": [],
   "source": [
    "import numpy as np\n",
    "import matplotlib.pyplot as plt\n",
    "import sklearn"
   ]
  },
  {
   "cell_type": "code",
   "execution_count": 4,
   "metadata": {},
   "outputs": [
    {
     "name": "stdout",
     "output_type": "stream",
     "text": [
      "(254, 8000)\n",
      "(250, 7715)\n",
      "(263, 7455)\n",
      "(262, 7573)\n"
     ]
    }
   ],
   "source": [
    "for sample in data:\n",
    "    print(sample.shape)"
   ]
  },
  {
   "cell_type": "code",
   "execution_count": 7,
   "metadata": {},
   "outputs": [
    {
     "name": "stdout",
     "output_type": "stream",
     "text": [
      "204.0\n",
      "[0.0,204.0]\n",
      "264.0\n",
      "[0.0,264.0]\n",
      "308.0\n",
      "[0.0,308.0]\n",
      "390.0\n",
      "[0.0,390.0]\n"
     ]
    }
   ],
   "source": [
    "for sample in data:\n",
    "    print('[{},{}]'.format(sample.min(),sample.max()))"
   ]
  },
  {
   "cell_type": "code",
   "execution_count": null,
   "metadata": {},
   "outputs": [],
   "source": [
    "from PASTE2/"
   ]
  }
 ],
 "metadata": {
  "kernelspec": {
   "display_name": "Python 3",
   "language": "python",
   "name": "python3"
  },
  "language_info": {
   "codemirror_mode": {
    "name": "ipython",
    "version": 3
   },
   "file_extension": ".py",
   "mimetype": "text/x-python",
   "name": "python",
   "nbconvert_exporter": "python",
   "pygments_lexer": "ipython3",
   "version": "3.6.9"
  },
  "toc": {
   "base_numbering": 1,
   "nav_menu": {},
   "number_sections": true,
   "sideBar": true,
   "skip_h1_title": false,
   "title_cell": "Table of Contents",
   "title_sidebar": "Contents",
   "toc_cell": false,
   "toc_position": {},
   "toc_section_display": true,
   "toc_window_display": false
  }
 },
 "nbformat": 4,
 "nbformat_minor": 4
}
